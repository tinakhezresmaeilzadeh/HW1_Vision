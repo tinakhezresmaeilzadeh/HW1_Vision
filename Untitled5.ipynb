{
  "nbformat": 4,
  "nbformat_minor": 0,
  "metadata": {
    "colab": {
      "provenance": [],
      "authorship_tag": "ABX9TyMfi23d0bOm/GG8LtFx1DRK"
    },
    "kernelspec": {
      "name": "python3",
      "display_name": "Python 3"
    },
    "language_info": {
      "name": "python"
    }
  },
  "cells": [
    {
      "cell_type": "code",
      "execution_count": null,
      "metadata": {
        "colab": {
          "base_uri": "https://localhost:8080/",
          "height": 473
        },
        "id": "Mk6iilUTaGFW",
        "outputId": "3049fc53-14ab-452e-c5f9-9165ced0ee39"
      },
      "outputs": [
        {
          "output_type": "stream",
          "name": "stderr",
          "text": [
            "IOPub data rate exceeded.\n",
            "The notebook server will temporarily stop sending output\n",
            "to the client in order to avoid crashing it.\n",
            "To change this limit, set the config variable\n",
            "`--NotebookApp.iopub_data_rate_limit`.\n",
            "\n",
            "Current values:\n",
            "NotebookApp.iopub_data_rate_limit=1000000.0 (bytes/sec)\n",
            "NotebookApp.rate_limit_window=3.0 (secs)\n",
            "\n"
          ]
        },
        {
          "output_type": "display_data",
          "data": {
            "text/plain": [
              "<Figure size 432x288 with 1 Axes>"
            ],
            "image/png": "[encoded data removed]"
          },
          "metadata": {
            "needs_background": "light"
          }
        }
      ],
      "source": [
        "import numpy as np\n",
        "from scipy.stats import bernoulli, binom\n",
        "import seaborn as sns\n",
        "p = 1\n",
        "p_prime = 1-p\n",
        "n = 81\n",
        "slots = 1000000\n",
        "Time_Vector = [k for k in range(slots-1)]\n",
        "\n",
        "#print(X_Vector)\n",
        "Prob_Vector = []\n",
        "for t in range(1, slots):\n",
        "  X_Vector = bernoulli .rvs(p, p_prime, size=n)\n",
        "  #print(len(X_Vector))\n",
        "  Prob_Vector.append(p)\n",
        "  if sum(X_Vector) > 1: #Collision\n",
        "    p = p*0.99\n",
        "\n",
        "  elif sum(X_Vector) == 1: # Success\n",
        "    p = p*1\n",
        "  elif sum(X_Vector == 0): # Idle\n",
        "    p =p/0.99\n",
        "\n",
        "  p_prime = 1-p\n",
        "  \n",
        "\n",
        "print(Prob_Vector)\n",
        "\n",
        "import matplotlib.pyplot as plt\n",
        "import numpy as np\n",
        "\n",
        "                  \n",
        "plt.plot(Time_Vector, Prob_Vector)\n",
        "plt.title('Probability vs. time')\n",
        "#plt.xlim(0, 3)\n",
        "#plt.ylim(0, 0.5)\n",
        "plt.xlabel('time')\n",
        "plt.ylabel('Probability')\n",
        "plt.grid(color = 'green', linestyle = '--', linewidth = 0.5)\n",
        "\n",
        "#plt.show()\n",
        "plt.savefig('6.png')"
      ]
    },
    {
      "cell_type": "code",
      "source": [],
      "metadata": {
        "id": "pHv1FqmeaGuF"
      },
      "execution_count": null,
      "outputs": []
    }
  ]
}